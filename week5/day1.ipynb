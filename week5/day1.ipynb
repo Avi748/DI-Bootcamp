{
 "cells": [
  {
   "cell_type": "code",
   "execution_count": 55,
   "id": "12a5cd8e",
   "metadata": {},
   "outputs": [],
   "source": [
    "import numpy as np"
   ]
  },
  {
   "cell_type": "code",
   "execution_count": 14,
   "id": "10696616",
   "metadata": {},
   "outputs": [],
   "source": [
    "sales = [0, 5, 155, 0, 518, 9, 1827, 616, 317, 325]\n",
    "sales_array = np.array(sales)"
   ]
  },
  {
   "cell_type": "code",
   "execution_count": 15,
   "id": "c20ee402",
   "metadata": {},
   "outputs": [
    {
     "data": {
      "text/plain": [
       "array([   0,    5,  155,    0,  518,    9, 1827,  616,  317,  325])"
      ]
     },
     "execution_count": 15,
     "metadata": {},
     "output_type": "execute_result"
    }
   ],
   "source": [
    "sales_array"
   ]
  },
  {
   "cell_type": "markdown",
   "id": "73294d09",
   "metadata": {},
   "source": [
    "### array([ 0, 5, 155, 0, 518, 9, 1827, 616, 317, 325])\n",
    "### ndim - dimensions (axes) in the array\n",
    "### shape - the size of the array in each dimention\n",
    "### size - the total numbe\n",
    "### dtype - the data type"
   ]
  },
  {
   "cell_type": "code",
   "execution_count": 17,
   "id": "f59e0393",
   "metadata": {},
   "outputs": [
    {
     "name": "stdout",
     "output_type": "stream",
     "text": [
      " ndim: 1\n"
     ]
    }
   ],
   "source": [
    "print(f\" ndim: {sales_array.ndim}\")"
   ]
  },
  {
   "cell_type": "code",
   "execution_count": 19,
   "id": "50cd53a2",
   "metadata": {},
   "outputs": [],
   "source": [
    "my_list = [x * 10 for x in range(1,11)]\n",
    "my_list = np.array(my_list)"
   ]
  },
  {
   "cell_type": "code",
   "execution_count": 9,
   "id": "a5c5a898",
   "metadata": {},
   "outputs": [
    {
     "name": "stdout",
     "output_type": "stream",
     "text": [
      "ndin : (10,)\n"
     ]
    }
   ],
   "source": [
    "print(f\"shape : {my_list.shape}\")"
   ]
  },
  {
   "cell_type": "code",
   "execution_count": 10,
   "id": "0faef7cd",
   "metadata": {},
   "outputs": [
    {
     "name": "stdout",
     "output_type": "stream",
     "text": [
      "size : 10\n"
     ]
    }
   ],
   "source": [
    "print(f\"size : {my_list.size}\")"
   ]
  },
  {
   "cell_type": "code",
   "execution_count": 11,
   "id": "e126e2fd",
   "metadata": {},
   "outputs": [
    {
     "name": "stdout",
     "output_type": "stream",
     "text": [
      "dtype : int32\n"
     ]
    }
   ],
   "source": [
    "print(f\"dtype : {my_list.dtype}\")"
   ]
  },
  {
   "cell_type": "code",
   "execution_count": 12,
   "id": "ad4a0519",
   "metadata": {},
   "outputs": [
    {
     "data": {
      "text/plain": [
       "1"
      ]
     },
     "execution_count": 12,
     "metadata": {},
     "output_type": "execute_result"
    }
   ],
   "source": [
    "my_list.ndim"
   ]
  },
  {
   "cell_type": "code",
   "execution_count": 22,
   "id": "6917a4ce",
   "metadata": {},
   "outputs": [
    {
     "data": {
      "text/plain": [
       "array([[ 10,  20,  30,  40,  50],\n",
       "       [ 60,  70,  80,  90, 100]])"
      ]
     },
     "execution_count": 22,
     "metadata": {},
     "output_type": "execute_result"
    }
   ],
   "source": [
    "my_two_dim_array = my_list.reshape(2,5)\n",
    "my_two_dim_array"
   ]
  },
  {
   "cell_type": "code",
   "execution_count": 24,
   "id": "560f5ac7",
   "metadata": {},
   "outputs": [
    {
     "data": {
      "text/plain": [
       "array([[1., 1., 1., 1., 1., 1., 1., 1., 1., 1.],\n",
       "       [1., 1., 1., 1., 1., 1., 1., 1., 1., 1.],\n",
       "       [1., 1., 1., 1., 1., 1., 1., 1., 1., 1.],\n",
       "       [1., 1., 1., 1., 1., 1., 1., 1., 1., 1.],\n",
       "       [1., 1., 1., 1., 1., 1., 1., 1., 1., 1.],\n",
       "       [1., 1., 1., 1., 1., 1., 1., 1., 1., 1.],\n",
       "       [1., 1., 1., 1., 1., 1., 1., 1., 1., 1.],\n",
       "       [1., 1., 1., 1., 1., 1., 1., 1., 1., 1.],\n",
       "       [1., 1., 1., 1., 1., 1., 1., 1., 1., 1.],\n",
       "       [1., 1., 1., 1., 1., 1., 1., 1., 1., 1.]])"
      ]
     },
     "execution_count": 24,
     "metadata": {},
     "output_type": "execute_result"
    }
   ],
   "source": [
    "ones = np.ones((10,10))\n",
    "ones"
   ]
  },
  {
   "cell_type": "code",
   "execution_count": 25,
   "id": "e3edd612",
   "metadata": {},
   "outputs": [
    {
     "data": {
      "text/plain": [
       "dtype('float64')"
      ]
     },
     "execution_count": 25,
     "metadata": {},
     "output_type": "execute_result"
    }
   ],
   "source": [
    "ones.dtype"
   ]
  },
  {
   "cell_type": "code",
   "execution_count": 26,
   "id": "9a58a40c",
   "metadata": {},
   "outputs": [
    {
     "data": {
      "text/plain": [
       "array([[0, 0, 0, 0, 0],\n",
       "       [0, 0, 0, 0, 0],\n",
       "       [0, 0, 0, 0, 0],\n",
       "       [0, 0, 0, 0, 0],\n",
       "       [0, 0, 0, 0, 0]])"
      ]
     },
     "execution_count": 26,
     "metadata": {},
     "output_type": "execute_result"
    }
   ],
   "source": [
    "zeros = np.zeros((5,5), dtype=int)\n",
    "zeros"
   ]
  },
  {
   "cell_type": "code",
   "execution_count": 27,
   "id": "50f75a9f",
   "metadata": {},
   "outputs": [
    {
     "data": {
      "text/plain": [
       "array([0, 1, 2, 3, 4, 5, 6, 7, 8, 9])"
      ]
     },
     "execution_count": 27,
     "metadata": {},
     "output_type": "execute_result"
    }
   ],
   "source": [
    "my_range = np.arange(10)\n",
    "my_range"
   ]
  },
  {
   "cell_type": "code",
   "execution_count": 28,
   "id": "abe9461b",
   "metadata": {},
   "outputs": [
    {
     "data": {
      "text/plain": [
       "array([  0.,  25.,  50.,  75., 100.])"
      ]
     },
     "execution_count": 28,
     "metadata": {},
     "output_type": "execute_result"
    }
   ],
   "source": [
    "my_linspace = np.linspace(0, 100, 5)\n",
    "my_linspace"
   ]
  },
  {
   "cell_type": "code",
   "execution_count": 29,
   "id": "19f3fcc8",
   "metadata": {},
   "outputs": [
    {
     "data": {
      "text/plain": [
       "array([[1, 3],\n",
       "       [5, 7]])"
      ]
     },
     "execution_count": 29,
     "metadata": {},
     "output_type": "execute_result"
    }
   ],
   "source": [
    "np.arange(1, 9, 2).reshape(2, 2)"
   ]
  },
  {
   "cell_type": "markdown",
   "id": "6305b208",
   "metadata": {},
   "source": [
    "### np.default_rng(seed) -  \n",
    "### default_rng.random(number)\n",
    "### default_rng.normal(mean, stdev, number)\n"
   ]
  },
  {
   "cell_type": "code",
   "execution_count": 32,
   "id": "c8d836ff",
   "metadata": {},
   "outputs": [
    {
     "data": {
      "text/plain": [
       "array([0.31795561, 0.27481238, 0.14987102, 0.45281912, 0.97248042,\n",
       "       0.5906709 , 0.31928325, 0.46330719, 0.90628454, 0.64878647])"
      ]
     },
     "execution_count": 32,
     "metadata": {},
     "output_type": "execute_result"
    }
   ],
   "source": [
    "rng = np.random.default_rng(2222)\n",
    "random_array = rng.random(10)\n",
    "random_array"
   ]
  },
  {
   "cell_type": "code",
   "execution_count": 33,
   "id": "793f687c",
   "metadata": {},
   "outputs": [
    {
     "data": {
      "text/plain": [
       "array([4.36284252, 4.60450772, 3.83043857, 4.63452412, 4.13104347,\n",
       "       5.74312454, 4.19740365, 2.89130483, 4.41776429, 5.95528344])"
      ]
     },
     "execution_count": 33,
     "metadata": {},
     "output_type": "execute_result"
    }
   ],
   "source": [
    "random_normal = rng.normal(5, 1, 10)\n",
    "random_normal"
   ]
  },
  {
   "cell_type": "code",
   "execution_count": 34,
   "id": "b291f537",
   "metadata": {},
   "outputs": [
    {
     "data": {
      "text/plain": [
       "array([[ 10,  20],\n",
       "       [ 30,  40],\n",
       "       [ 50,  60],\n",
       "       [ 70,  80],\n",
       "       [ 90, 100]])"
      ]
     },
     "execution_count": 34,
     "metadata": {},
     "output_type": "execute_result"
    }
   ],
   "source": [
    "my_two_dim_array = my_list.reshape(5,2)\n",
    "my_two_dim_array"
   ]
  },
  {
   "cell_type": "code",
   "execution_count": 37,
   "id": "f394643e",
   "metadata": {},
   "outputs": [
    {
     "data": {
      "text/plain": [
       "array([[ 10,  20],\n",
       "       [ 30,  40],\n",
       "       [ 50,  60],\n",
       "       [ 70,  80],\n",
       "       [ 90, 100]])"
      ]
     },
     "execution_count": 37,
     "metadata": {},
     "output_type": "execute_result"
    }
   ],
   "source": [
    "my_a_array = np.arange(10, 101, 10).reshape(5,2)\n",
    "my_a_array"
   ]
  },
  {
   "cell_type": "code",
   "execution_count": 38,
   "id": "e9dbd7d5",
   "metadata": {},
   "outputs": [
    {
     "data": {
      "text/plain": [
       "array([[ 10.,  20.],\n",
       "       [ 30.,  40.],\n",
       "       [ 50.,  60.],\n",
       "       [ 70.,  80.],\n",
       "       [ 90., 100.]])"
      ]
     },
     "execution_count": 38,
     "metadata": {},
     "output_type": "execute_result"
    }
   ],
   "source": [
    "my_lin_array = np.linspace(10, 100, 10).reshape(5,2)\n",
    "my_lin_array"
   ]
  },
  {
   "cell_type": "code",
   "execution_count": 40,
   "id": "da617d18",
   "metadata": {},
   "outputs": [
    {
     "data": {
      "text/plain": [
       "array([[ 10,  20],\n",
       "       [ 30,  40],\n",
       "       [ 50,  60],\n",
       "       [ 70,  80],\n",
       "       [ 90, 100]])"
      ]
     },
     "execution_count": 40,
     "metadata": {},
     "output_type": "execute_result"
    }
   ],
   "source": [
    "my_fun_array = (np.arange(1, 11) * 10).reshape(5,2)\n",
    "my_fun_array"
   ]
  },
  {
   "cell_type": "code",
   "execution_count": 45,
   "id": "0451de9a",
   "metadata": {},
   "outputs": [
    {
     "data": {
      "text/plain": [
       "array([[0.24742606, 0.09299006, 0.61176337],\n",
       "       [0.06066207, 0.66103343, 0.75515778],\n",
       "       [0.1108689 , 0.04305584, 0.41441747]])"
      ]
     },
     "execution_count": 45,
     "metadata": {},
     "output_type": "execute_result"
    }
   ],
   "source": [
    "my_rng = np.random.default_rng(2022)\n",
    "random_array = my_rng.random(9).reshape(3,3)\n",
    "random_array"
   ]
  },
  {
   "cell_type": "markdown",
   "id": "33961259",
   "metadata": {},
   "source": [
    "### indexing & slicing one-dimensional arrays is the same as base python"
   ]
  },
  {
   "cell_type": "code",
   "execution_count": 46,
   "id": "78e83b3a",
   "metadata": {},
   "outputs": [
    {
     "data": {
      "text/plain": [
       "array([ 0,  1,  2,  3,  4,  5,  6,  7,  8,  9, 10, 11])"
      ]
     },
     "execution_count": 46,
     "metadata": {},
     "output_type": "execute_result"
    }
   ],
   "source": [
    "integer_array = np.arange(12)\n",
    "integer_array"
   ]
  },
  {
   "cell_type": "code",
   "execution_count": 47,
   "id": "0fd7018e",
   "metadata": {},
   "outputs": [
    {
     "data": {
      "text/plain": [
       "2"
      ]
     },
     "execution_count": 47,
     "metadata": {},
     "output_type": "execute_result"
    }
   ],
   "source": [
    "integer_array[2]"
   ]
  },
  {
   "cell_type": "code",
   "execution_count": 48,
   "id": "62fc641b",
   "metadata": {},
   "outputs": [
    {
     "data": {
      "text/plain": [
       "11"
      ]
     },
     "execution_count": 48,
     "metadata": {},
     "output_type": "execute_result"
    }
   ],
   "source": [
    "integer_array[-1]"
   ]
  },
  {
   "cell_type": "code",
   "execution_count": 49,
   "id": "69c02c86",
   "metadata": {},
   "outputs": [
    {
     "data": {
      "text/plain": [
       "10"
      ]
     },
     "execution_count": 49,
     "metadata": {},
     "output_type": "execute_result"
    }
   ],
   "source": [
    "integer_array[-2]"
   ]
  },
  {
   "cell_type": "code",
   "execution_count": 50,
   "id": "c58a725f",
   "metadata": {},
   "outputs": [
    {
     "data": {
      "text/plain": [
       "array([0, 1, 2, 3, 4])"
      ]
     },
     "execution_count": 50,
     "metadata": {},
     "output_type": "execute_result"
    }
   ],
   "source": [
    "integer_array[:5]"
   ]
  },
  {
   "cell_type": "code",
   "execution_count": 51,
   "id": "ae590a0c",
   "metadata": {},
   "outputs": [
    {
     "data": {
      "text/plain": [
       "array([ 0,  1,  2,  3,  4,  5,  6,  7,  8,  9, 10, 11])"
      ]
     },
     "execution_count": 51,
     "metadata": {},
     "output_type": "execute_result"
    }
   ],
   "source": [
    "integer_array[:]"
   ]
  },
  {
   "cell_type": "code",
   "execution_count": 52,
   "id": "b15526ad",
   "metadata": {},
   "outputs": [
    {
     "data": {
      "text/plain": [
       "array([ 0,  2,  4,  6,  8, 10])"
      ]
     },
     "execution_count": 52,
     "metadata": {},
     "output_type": "execute_result"
    }
   ],
   "source": [
    "integer_array[::2]"
   ]
  },
  {
   "cell_type": "markdown",
   "id": "9b5a40b5",
   "metadata": {},
   "source": [
    "### array(row index, column index) - indexing to access a single element(0 - indexed)"
   ]
  },
  {
   "cell_type": "code",
   "execution_count": 57,
   "id": "f7921590",
   "metadata": {},
   "outputs": [
    {
     "data": {
      "text/plain": [
       "array([[ 0,  1,  2,  3],\n",
       "       [ 4,  5,  6,  7],\n",
       "       [ 8,  9, 10, 11]])"
      ]
     },
     "execution_count": 57,
     "metadata": {},
     "output_type": "execute_result"
    }
   ],
   "source": [
    "new_array = integer_array.reshape(3,4)\n",
    "new_array"
   ]
  },
  {
   "cell_type": "code",
   "execution_count": 58,
   "id": "882c834d",
   "metadata": {},
   "outputs": [
    {
     "data": {
      "text/plain": [
       "array([[ 0,  1,  2,  3],\n",
       "       [ 4,  5,  6,  7],\n",
       "       [ 8,  9, 10, 11]])"
      ]
     },
     "execution_count": 58,
     "metadata": {},
     "output_type": "execute_result"
    }
   ],
   "source": [
    "new_array[:, :]"
   ]
  },
  {
   "cell_type": "code",
   "execution_count": 59,
   "id": "61a50b5d",
   "metadata": {},
   "outputs": [
    {
     "data": {
      "text/plain": [
       "array([[ 4,  5,  6,  7],\n",
       "       [ 8,  9, 10, 11]])"
      ]
     },
     "execution_count": 59,
     "metadata": {},
     "output_type": "execute_result"
    }
   ],
   "source": [
    "new_array[1:, :]"
   ]
  },
  {
   "cell_type": "code",
   "execution_count": 60,
   "id": "bb52889a",
   "metadata": {},
   "outputs": [
    {
     "data": {
      "text/plain": [
       "array([[ 1,  2,  3],\n",
       "       [ 5,  6,  7],\n",
       "       [ 9, 10, 11]])"
      ]
     },
     "execution_count": 60,
     "metadata": {},
     "output_type": "execute_result"
    }
   ],
   "source": [
    "new_array[:, 1:]"
   ]
  },
  {
   "cell_type": "code",
   "execution_count": 61,
   "id": "8b6b47c8",
   "metadata": {},
   "outputs": [
    {
     "data": {
      "text/plain": [
       "9"
      ]
     },
     "execution_count": 61,
     "metadata": {},
     "output_type": "execute_result"
    }
   ],
   "source": [
    "new_array[2,1]"
   ]
  },
  {
   "cell_type": "code",
   "execution_count": 75,
   "id": "705ac7f9",
   "metadata": {},
   "outputs": [
    {
     "data": {
      "text/plain": [
       "array([[0.24742606, 0.09299006, 0.61176337],\n",
       "       [0.06066207, 0.66103343, 0.75515778]])"
      ]
     },
     "execution_count": 75,
     "metadata": {},
     "output_type": "execute_result"
    }
   ],
   "source": [
    "random_array[:2, :]"
   ]
  },
  {
   "cell_type": "code",
   "execution_count": 77,
   "id": "e0ea7958",
   "metadata": {},
   "outputs": [
    {
     "data": {
      "text/plain": [
       "array([0.24742606, 0.06066207, 0.1108689 ])"
      ]
     },
     "execution_count": 77,
     "metadata": {},
     "output_type": "execute_result"
    }
   ],
   "source": [
    "random_array[:, 0]"
   ]
  },
  {
   "cell_type": "code",
   "execution_count": 78,
   "id": "b557734e",
   "metadata": {},
   "outputs": [
    {
     "data": {
      "text/plain": [
       "0.04305584439252108"
      ]
     },
     "execution_count": 78,
     "metadata": {},
     "output_type": "execute_result"
    }
   ],
   "source": [
    "random_array[2, 1]"
   ]
  },
  {
   "cell_type": "code",
   "execution_count": 79,
   "id": "808893d8",
   "metadata": {},
   "outputs": [
    {
     "data": {
      "text/plain": [
       "array([   0,    5,  155,    0,  518,    9, 1827,  616,  317,  325])"
      ]
     },
     "execution_count": 79,
     "metadata": {},
     "output_type": "execute_result"
    }
   ],
   "source": [
    "sales_array"
   ]
  },
  {
   "cell_type": "code",
   "execution_count": 80,
   "id": "e288f462",
   "metadata": {},
   "outputs": [
    {
     "data": {
      "text/plain": [
       "array([   2,    7,  157,    2,  520,   11, 1829,  618,  319,  327])"
      ]
     },
     "execution_count": 80,
     "metadata": {},
     "output_type": "execute_result"
    }
   ],
   "source": [
    "sales_array + 2"
   ]
  },
  {
   "cell_type": "code",
   "execution_count": 82,
   "id": "5d144fbc",
   "metadata": {},
   "outputs": [
    {
     "data": {
      "text/plain": [
       "array([0, 1, 2, 3])"
      ]
     },
     "execution_count": 82,
     "metadata": {},
     "output_type": "execute_result"
    }
   ],
   "source": [
    "quantity = new_array[0, :]\n",
    "quantity"
   ]
  },
  {
   "cell_type": "code",
   "execution_count": 83,
   "id": "fad6bf6b",
   "metadata": {},
   "outputs": [],
   "source": [
    "price = new_array[1, :]"
   ]
  },
  {
   "cell_type": "code",
   "execution_count": 84,
   "id": "0adeb88c",
   "metadata": {},
   "outputs": [
    {
     "data": {
      "text/plain": [
       "array([4, 5, 6, 7])"
      ]
     },
     "execution_count": 84,
     "metadata": {},
     "output_type": "execute_result"
    }
   ],
   "source": [
    "price"
   ]
  },
  {
   "cell_type": "code",
   "execution_count": 85,
   "id": "60c8fa2a",
   "metadata": {},
   "outputs": [
    {
     "data": {
      "text/plain": [
       "array([ 0,  5, 12, 21])"
      ]
     },
     "execution_count": 85,
     "metadata": {},
     "output_type": "execute_result"
    }
   ],
   "source": [
    "quantity * price"
   ]
  },
  {
   "cell_type": "code",
   "execution_count": 91,
   "id": "d4a7cfd3",
   "metadata": {},
   "outputs": [],
   "source": [
    "prices = np.array([5.99, 6.99, 22.49, 99.99, 4.99, 49.99])"
   ]
  },
  {
   "cell_type": "code",
   "execution_count": 87,
   "id": "8bd4ce6a",
   "metadata": {},
   "outputs": [
    {
     "data": {
      "text/plain": [
       "array([ 5.99,  6.99, 22.49, 99.99, 49.99])"
      ]
     },
     "execution_count": 87,
     "metadata": {},
     "output_type": "execute_result"
    }
   ],
   "source": [
    "prices"
   ]
  },
  {
   "cell_type": "code",
   "execution_count": 92,
   "id": "84b7aa8b",
   "metadata": {},
   "outputs": [
    {
     "data": {
      "text/plain": [
       "array([ 10.99,  11.99,  27.49, 104.99,   9.99,  54.99])"
      ]
     },
     "execution_count": 92,
     "metadata": {},
     "output_type": "execute_result"
    }
   ],
   "source": [
    "total = prices + 5\n",
    "total"
   ]
  },
  {
   "cell_type": "code",
   "execution_count": 90,
   "id": "c1f92762",
   "metadata": {},
   "outputs": [
    {
     "data": {
      "text/plain": [
       "array([0.24742606, 0.09299006, 0.61176337, 0.06066207, 0.66103343,\n",
       "       0.75515778])"
      ]
     },
     "execution_count": 90,
     "metadata": {},
     "output_type": "execute_result"
    }
   ],
   "source": [
    "discount_pct = random_array[:2].reshape(6)\n",
    "discount_pct"
   ]
  },
  {
   "cell_type": "code",
   "execution_count": 93,
   "id": "4c75a892",
   "metadata": {},
   "outputs": [
    {
     "data": {
      "text/plain": [
       "array([0.75257394, 0.90700994, 0.38823663, 0.93933793, 0.33896657,\n",
       "       0.24484222])"
      ]
     },
     "execution_count": 93,
     "metadata": {},
     "output_type": "execute_result"
    }
   ],
   "source": [
    "pct_owed = 1 - discount_pct\n",
    "pct_owed"
   ]
  },
  {
   "cell_type": "code",
   "execution_count": 94,
   "id": "76bd0f18",
   "metadata": {},
   "outputs": [
    {
     "data": {
      "text/plain": [
       "array([ 8.27, 10.88, 10.67, 98.62,  3.39, 13.46])"
      ]
     },
     "execution_count": 94,
     "metadata": {},
     "output_type": "execute_result"
    }
   ],
   "source": [
    "final_owed = total * pct_owed\n",
    "final_owed.round(2)"
   ]
  },
  {
   "cell_type": "markdown",
   "id": "ee5c5369",
   "metadata": {},
   "source": [
    "### filtering arrays"
   ]
  },
  {
   "cell_type": "code",
   "execution_count": 97,
   "id": "ea61478d",
   "metadata": {},
   "outputs": [
    {
     "data": {
      "text/plain": [
       "array([   5,  155,  518,    9, 1827,  616,  317,  325])"
      ]
     },
     "execution_count": 97,
     "metadata": {},
     "output_type": "execute_result"
    }
   ],
   "source": [
    "sales_array[sales_array != 0]"
   ]
  },
  {
   "cell_type": "code",
   "execution_count": 98,
   "id": "7839f527",
   "metadata": {},
   "outputs": [
    {
     "data": {
      "text/plain": [
       "array([616])"
      ]
     },
     "execution_count": 98,
     "metadata": {},
     "output_type": "execute_result"
    }
   ],
   "source": [
    "sales_array[(sales_array == 616)]"
   ]
  },
  {
   "cell_type": "code",
   "execution_count": 99,
   "id": "6e7f212b",
   "metadata": {},
   "outputs": [
    {
     "data": {
      "text/plain": [
       "array([  0,   5,   0,   9, 616])"
      ]
     },
     "execution_count": 99,
     "metadata": {},
     "output_type": "execute_result"
    }
   ],
   "source": [
    "sales_array[(sales_array == 616) | (sales_array < 100)]"
   ]
  },
  {
   "cell_type": "code",
   "execution_count": 101,
   "id": "3c6ddaf2",
   "metadata": {},
   "outputs": [
    {
     "data": {
      "text/plain": [
       "array([155, 317, 325])"
      ]
     },
     "execution_count": 101,
     "metadata": {},
     "output_type": "execute_result"
    }
   ],
   "source": [
    "sales_array[(sales_array > 100) & (sales_array < 500)]"
   ]
  },
  {
   "cell_type": "code",
   "execution_count": 102,
   "id": "6388a05b",
   "metadata": {},
   "outputs": [
    {
     "data": {
      "text/plain": [
       "array([155, 317, 325])"
      ]
     },
     "execution_count": 102,
     "metadata": {},
     "output_type": "execute_result"
    }
   ],
   "source": [
    "mask = (sales_array > 100) & (sales_array < 500)\n",
    "sales_array[mask]"
   ]
  },
  {
   "cell_type": "code",
   "execution_count": 103,
   "id": "7e929e02",
   "metadata": {},
   "outputs": [
    {
     "data": {
      "text/plain": [
       "array(['fruits', 'vegtable', 'cereal', 'dairy', 'eggs'], dtype='<U8')"
      ]
     },
     "execution_count": 103,
     "metadata": {},
     "output_type": "execute_result"
    }
   ],
   "source": [
    "product_array = np.array(['fruits', 'vegtable', 'cereal', 'dairy', 'eggs'])\n",
    "product_array"
   ]
  },
  {
   "cell_type": "code",
   "execution_count": 105,
   "id": "a40f71cd",
   "metadata": {},
   "outputs": [
    {
     "data": {
      "text/plain": [
       "array([0, 1, 2, 3])"
      ]
     },
     "execution_count": 105,
     "metadata": {},
     "output_type": "execute_result"
    }
   ],
   "source": [
    "new_array = new_array[0, :]\n",
    "new_array"
   ]
  },
  {
   "cell_type": "markdown",
   "id": "e1741827",
   "metadata": {},
   "source": [
    "### modifying array values"
   ]
  },
  {
   "cell_type": "code",
   "execution_count": 108,
   "id": "1e9c206a",
   "metadata": {},
   "outputs": [
    {
     "data": {
      "text/plain": [
       "array([0, 1, 2, 3])"
      ]
     },
     "execution_count": 108,
     "metadata": {},
     "output_type": "execute_result"
    }
   ],
   "source": [
    "new_array"
   ]
  },
  {
   "cell_type": "code",
   "execution_count": 110,
   "id": "8ee9e591",
   "metadata": {},
   "outputs": [
    {
     "data": {
      "text/plain": [
       "array([ 0, 25,  2,  3])"
      ]
     },
     "execution_count": 110,
     "metadata": {},
     "output_type": "execute_result"
    }
   ],
   "source": [
    "new_array[1] = 25\n",
    "new_array"
   ]
  },
  {
   "cell_type": "code",
   "execution_count": 111,
   "id": "17ff2ea6",
   "metadata": {},
   "outputs": [
    {
     "data": {
      "text/plain": [
       "array([ 5, 25,  2,  3])"
      ]
     },
     "execution_count": 111,
     "metadata": {},
     "output_type": "execute_result"
    }
   ],
   "source": [
    "new_array[new_array == 0] = 5\n",
    "new_array"
   ]
  },
  {
   "cell_type": "markdown",
   "id": "387e17f9",
   "metadata": {},
   "source": [
    "### the where function\n",
    "np.where(logical, value if true, value if false)\n"
   ]
  },
  {
   "cell_type": "code",
   "execution_count": 112,
   "id": "7104180e",
   "metadata": {},
   "outputs": [
    {
     "data": {
      "text/plain": [
       "array([ 12, 102,  18,   0,   0])"
      ]
     },
     "execution_count": 112,
     "metadata": {},
     "output_type": "execute_result"
    }
   ],
   "source": [
    "inventory_array = np.array([12, 102, 18, 0, 0])\n",
    "inventory_array"
   ]
  },
  {
   "cell_type": "code",
   "execution_count": 113,
   "id": "3f03ccda",
   "metadata": {},
   "outputs": [
    {
     "data": {
      "text/plain": [
       "array(['In stock', 'In stock', 'In stock', 'Out of stock', 'Out of stock'],\n",
       "      dtype='<U12')"
      ]
     },
     "execution_count": 113,
     "metadata": {},
     "output_type": "execute_result"
    }
   ],
   "source": [
    "np.where(inventory_array <= 0, 'Out of stock', 'In stock')"
   ]
  },
  {
   "cell_type": "code",
   "execution_count": 115,
   "id": "bca2f9cb",
   "metadata": {},
   "outputs": [
    {
     "data": {
      "text/plain": [
       "array(['fruits', 'vegtable', 'cereal', 'out of stock', 'out of stock'],\n",
       "      dtype='<U12')"
      ]
     },
     "execution_count": 115,
     "metadata": {},
     "output_type": "execute_result"
    }
   ],
   "source": [
    "np.where(inventory_array <= 0, \"out of stock\", product_array)"
   ]
  },
  {
   "cell_type": "code",
   "execution_count": 116,
   "id": "cb736d1f",
   "metadata": {},
   "outputs": [
    {
     "data": {
      "text/plain": [
       "array([[   0,    5,  155,    0,  518],\n",
       "       [   9, 1827,  616,  317,  325]])"
      ]
     },
     "execution_count": 116,
     "metadata": {},
     "output_type": "execute_result"
    }
   ],
   "source": [
    "sales = [0, 5, 155, 0, 518, 9, 1827, 616, 317, 325]\n",
    "sales_array = np.array(sales).reshape(2,5)\n",
    "sales_array"
   ]
  },
  {
   "cell_type": "code",
   "execution_count": 117,
   "id": "30186fec",
   "metadata": {},
   "outputs": [
    {
     "data": {
      "text/plain": [
       "3772"
      ]
     },
     "execution_count": 117,
     "metadata": {},
     "output_type": "execute_result"
    }
   ],
   "source": [
    "sales_array.sum()"
   ]
  },
  {
   "cell_type": "code",
   "execution_count": 118,
   "id": "ec2d0009",
   "metadata": {},
   "outputs": [
    {
     "data": {
      "text/plain": [
       "377.2"
      ]
     },
     "execution_count": 118,
     "metadata": {},
     "output_type": "execute_result"
    }
   ],
   "source": [
    "sales_array.mean()"
   ]
  },
  {
   "cell_type": "code",
   "execution_count": 119,
   "id": "b6b65718",
   "metadata": {},
   "outputs": [
    {
     "data": {
      "text/plain": [
       "1827"
      ]
     },
     "execution_count": 119,
     "metadata": {},
     "output_type": "execute_result"
    }
   ],
   "source": [
    "sales_array.max()"
   ]
  },
  {
   "cell_type": "code",
   "execution_count": 120,
   "id": "cbfaa57f",
   "metadata": {},
   "outputs": [
    {
     "data": {
      "text/plain": [
       "0"
      ]
     },
     "execution_count": 120,
     "metadata": {},
     "output_type": "execute_result"
    }
   ],
   "source": [
    "sales_array.min()"
   ]
  },
  {
   "cell_type": "code",
   "execution_count": 121,
   "id": "37b38a44",
   "metadata": {},
   "outputs": [
    {
     "data": {
      "text/plain": [
       "array([   9, 1832,  771,  317,  843])"
      ]
     },
     "execution_count": 121,
     "metadata": {},
     "output_type": "execute_result"
    }
   ],
   "source": [
    "sales_array.sum(axis = 0)"
   ]
  },
  {
   "cell_type": "code",
   "execution_count": 122,
   "id": "81272dce",
   "metadata": {},
   "outputs": [
    {
     "data": {
      "text/plain": [
       "array([ 678, 3094])"
      ]
     },
     "execution_count": 122,
     "metadata": {},
     "output_type": "execute_result"
    }
   ],
   "source": [
    "sales_array.sum(axis = 1)"
   ]
  },
  {
   "cell_type": "code",
   "execution_count": 125,
   "id": "1933d796",
   "metadata": {},
   "outputs": [
    {
     "data": {
      "text/plain": [
       "236.0"
      ]
     },
     "execution_count": 125,
     "metadata": {},
     "output_type": "execute_result"
    }
   ],
   "source": [
    "np.median(sales_array)"
   ]
  },
  {
   "cell_type": "code",
   "execution_count": 126,
   "id": "c11b99d1",
   "metadata": {},
   "outputs": [
    {
     "data": {
      "text/plain": [
       "737.0999999999996"
      ]
     },
     "execution_count": 126,
     "metadata": {},
     "output_type": "execute_result"
    }
   ],
   "source": [
    "np.percentile(sales_array, 90)"
   ]
  },
  {
   "cell_type": "code",
   "execution_count": 127,
   "id": "85c975aa",
   "metadata": {},
   "outputs": [
    {
     "data": {
      "text/plain": [
       "array([   0,    5,    9,  155,  317,  325,  518,  616, 1827])"
      ]
     },
     "execution_count": 127,
     "metadata": {},
     "output_type": "execute_result"
    }
   ],
   "source": [
    "np.unique(sales_array)"
   ]
  },
  {
   "cell_type": "code",
   "execution_count": 128,
   "id": "18e6cd53",
   "metadata": {},
   "outputs": [
    {
     "data": {
      "text/plain": [
       "array([[ 0.        ,  2.23606798, 12.4498996 ,  0.        , 22.75961335],\n",
       "       [ 3.        , 42.74342055, 24.81934729, 17.80449381, 18.02775638]])"
      ]
     },
     "execution_count": 128,
     "metadata": {},
     "output_type": "execute_result"
    }
   ],
   "source": [
    "np.sqrt(sales_array)"
   ]
  },
  {
   "cell_type": "code",
   "execution_count": 129,
   "id": "e3459c84",
   "metadata": {},
   "outputs": [
    {
     "data": {
      "text/plain": [
       "array([[   0,    0,    5,  155,  518],\n",
       "       [   9,  317,  325,  616, 1827]])"
      ]
     },
     "execution_count": 129,
     "metadata": {},
     "output_type": "execute_result"
    }
   ],
   "source": [
    "sales_array.sort(axis = 1)\n",
    "sales_array"
   ]
  },
  {
   "cell_type": "code",
   "execution_count": 141,
   "id": "f11f8b64",
   "metadata": {},
   "outputs": [],
   "source": [
    "def for_loop_multiply_list(list1, list2):\n",
    "    product_list = []\n",
    "    for element1, element2 in zip(list1, list2):\n",
    "        product_list.append(element1 * element2)\n",
    "    return product_list\n",
    "\n",
    "def multiply_array(array1, array2):\n",
    "    return array1 * array2"
   ]
  },
  {
   "cell_type": "code",
   "execution_count": 136,
   "id": "6f9cf4c9",
   "metadata": {},
   "outputs": [],
   "source": [
    "list1 = list(range(1000))\n",
    "list2 = list(range(1000))"
   ]
  },
  {
   "cell_type": "code",
   "execution_count": 139,
   "id": "deac90ad",
   "metadata": {},
   "outputs": [
    {
     "name": "stdout",
     "output_type": "stream",
     "text": [
      "74.2 µs ± 259 ns per loop (mean ± std. dev. of 5 runs, 10,000 loops each)\n"
     ]
    }
   ],
   "source": [
    "%%timeit -r 5 -n 10000\n",
    "for_loop_multiply_list(list1, list2)"
   ]
  },
  {
   "cell_type": "code",
   "execution_count": 144,
   "id": "2f88f0d3",
   "metadata": {},
   "outputs": [
    {
     "name": "stdout",
     "output_type": "stream",
     "text": [
      "90.3 µs ± 672 ns per loop (mean ± std. dev. of 5 runs, 10,000 loops each)\n"
     ]
    }
   ],
   "source": [
    "\n",
    "%%timeit -r 5 -n 10000\n",
    "multiply_array(np.array(list1), np.array(list2))"
   ]
  },
  {
   "cell_type": "code",
   "execution_count": null,
   "id": "06f187fc",
   "metadata": {},
   "outputs": [],
   "source": []
  }
 ],
 "metadata": {
  "kernelspec": {
   "display_name": "Python 3 (ipykernel)",
   "language": "python",
   "name": "python3"
  },
  "language_info": {
   "codemirror_mode": {
    "name": "ipython",
    "version": 3
   },
   "file_extension": ".py",
   "mimetype": "text/x-python",
   "name": "python",
   "nbconvert_exporter": "python",
   "pygments_lexer": "ipython3",
   "version": "3.11.5"
  }
 },
 "nbformat": 4,
 "nbformat_minor": 5
}
